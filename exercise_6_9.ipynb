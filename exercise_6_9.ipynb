{
 "cells": [
  {
   "cell_type": "markdown",
   "metadata": {},
   "source": [
    "# Exercise 6\n",
    "Sử dụng các filter khử nhiễu đã thực hành cho các hình trong thư mục Exercise. Cho biết filter nào khử nhiễu tốt nhất?"
   ]
  },
  {
   "cell_type": "code",
   "execution_count": null,
   "metadata": {},
   "outputs": [],
   "source": [
    "import cv2\n",
    "import numpy as np\n",
    "import os\n",
    "from matplotlib import pyplot as plt\n",
    "\n",
    "def apply_denoise_filters(image_path):\n",
    "    image = cv2.imread(image_path)\n",
    "    # Apply Gaussian Blur\n",
    "    gaussian_blur = cv2.GaussianBlur(image, (5, 5), 0)\n",
    "    # Apply Median Blur\n",
    "    median_blur = cv2.medianBlur(image, 5)\n",
    "    # Apply Bilateral Filter\n",
    "    bilateral_filter = cv2.bilateralFilter(image, 9, 75, 75)\n",
    "    # Display results\n",
    "    plt.figure(figsize=(10, 8))\n",
    "    plt.subplot(2, 2, 1), plt.imshow(cv2.cvtColor(image, cv2.COLOR_BGR2RGB)), plt.title('Original')\n",
    "    plt.subplot(2, 2, 2), plt.imshow(cv2.cvtColor(gaussian_blur, cv2.COLOR_BGR2RGB)), plt.title('Gaussian Blur')\n",
    "    plt.subplot(2, 2, 3), plt.imshow(cv2.cvtColor(median_blur, cv2.COLOR_BGR2RGB)), plt.title('Median Blur')\n",
    "    plt.subplot(2, 2, 4), plt.imshow(cv2.cvtColor(bilateral_filter, cv2.COLOR_BGR2RGB)), plt.title('Bilateral Filter')\n",
    "    plt.show()\n",
    "\n",
    "# Example usage\n",
    "exercise_dir = 'Exercise'\n",
    "for filename in os.listdir(exercise_dir):\n",
    "    if filename.endswith('.jpg') or filename.endswith('.png'):\n",
    "        apply_denoise_filters(os.path.join(exercise_dir, filename))\n"
   ]
  },
  {
   "cell_type": "markdown",
   "metadata": {},
   "source": [
    "# Exercise 7\n",
    "Sử dụng các filter xác định biên của các hình trong thư mục Exercise. Lưu các hình vào máy."
   ]
  },
  {
   "cell_type": "code",
   "execution_count": null,
   "metadata": {},
   "outputs": [],
   "source": [
    "def apply_edge_detection(image_path, save_dir):\n",
    "    image = cv2.imread(image_path, 0)\n",
    "    # Apply Canny Edge Detection\n",
    "    edges = cv2.Canny(image, 100, 200)\n",
    "    # Save the result\n",
    "    save_path = os.path.join(save_dir, 'edges_' + os.path.basename(image_path))\n",
    "    cv2.imwrite(save_path, edges)\n",
    "    plt.imshow(edges, cmap='gray')\n",
    "    plt.title('Edge Image')\n",
    "    plt.show()\n",
    "\n",
    "# Example usage\n",
    "save_directory = 'Edge_Images'\n",
    "os.makedirs(save_directory, exist_ok=True)\n",
    "for filename in os.listdir(exercise_dir):\n",
    "    if filename.endswith('.jpg') or filename.endswith('.png'):\n",
    "        apply_edge_detection(os.path.join(exercise_dir, filename), save_directory)\n"
   ]
  },
  {
   "cell_type": "markdown",
   "metadata": {},
   "source": [
    "# Exercise 8\n",
    "Chương trình đổi màu RGB ngẫu nhiên của các hình trong thư mục Exercise. Lưu hình mới vào máy."
   ]
  },
  {
   "cell_type": "code",
   "execution_count": null,
   "metadata": {},
   "outputs": [],
   "source": [
    "def randomize_rgb_colors(image_path, save_dir):\n",
    "    image = cv2.imread(image_path)\n",
    "    # Randomize RGB channels\n",
    "    channels = cv2.split(image)\n",
    "    np.random.shuffle(channels)\n",
    "    randomized_image = cv2.merge(channels)\n",
    "    # Save the result\n",
    "    save_path = os.path.join(save_dir, 'random_rgb_' + os.path.basename(image_path))\n",
    "    cv2.imwrite(save_path, randomized_image)\n",
    "    plt.imshow(cv2.cvtColor(randomized_image, cv2.COLOR_BGR2RGB))\n",
    "    plt.title('Random RGB Image')\n",
    "    plt.show()\n",
    "\n",
    "# Example usage\n",
    "random_rgb_directory = 'Random_RGB_Images'\n",
    "os.makedirs(random_rgb_directory, exist_ok=True)\n",
    "for filename in os.listdir(exercise_dir):\n",
    "    if filename.endswith('.jpg') or filename.endswith('.png'):\n",
    "        randomize_rgb_colors(os.path.join(exercise_dir, filename), random_rgb_directory)\n"
   ]
  },
  {
   "cell_type": "markdown",
   "metadata": {},
   "source": [
    "# Exercise 9\n",
    "Chương trình đổi màu HSV ngẫu nhiên nhưng không trùng của các hình trong thư mục Exercise. Lưu hình mới vào máy."
   ]
  },
  {
   "cell_type": "code",
   "execution_count": null,
   "metadata": {},
   "outputs": [],
   "source": [
    "def randomize_hsv_colors(image_path, save_dir):\n",
    "    image = cv2.imread(image_path)\n",
    "    hsv_image = cv2.cvtColor(image, cv2.COLOR_BGR2HSV)\n",
    "    # Randomize HSV channels\n",
    "    h, s, v = cv2.split(hsv_image)\n",
    "    np.random.shuffle([h, s, v])\n",
    "    randomized_hsv_image = cv2.merge([h, s, v])\n",
    "    randomized_image = cv2.cvtColor(randomized_hsv_image, cv2.COLOR_HSV2BGR)\n",
    "    # Save the result\n",
    "    save_path = os.path.join(save_dir, 'random_hsv_' + os.path.basename(image_path))\n",
    "    cv2.imwrite(save_path, randomized_image)\n",
    "    plt.imshow(cv2.cvtColor(randomized_image, cv2.COLOR_BGR2RGB))\n",
    "    plt.title('Random HSV Image')\n",
    "    plt.show()\n",
    "\n",
    "# Example usage\n",
    "random_hsv_directory = 'Random_HSV_Images'\n",
    "os.makedirs(random_hsv_directory, exist_ok=True)\n",
    "for filename in os.listdir(exercise_dir):\n",
    "    if filename.endswith('.jpg') or filename.endswith('.png'):\n",
    "        randomize_hsv_colors(os.path.join(exercise_dir, filename), random_hsv_directory)\n"
   ]
  }
 ],
 "metadata": {
  "kernelspec": {
   "display_name": "Python 3",
   "language": "python",
   "name": "python3"
  },
  "language_info": {
   "codemirror_mode": {
    "name": "ipython",
    "version": 3
   },
   "file_extension": ".py",
   "mimetype": "text/x-python",
   "name": "python",
   "nbconvert_exporter": "python",
   "pygments_lexer": "ipython3",
   "version": "3.8.5"
  }
 },
 "nbformat": 4,
 "nbformat_minor": 5
}
